{
 "cells": [
  {
   "cell_type": "markdown",
   "metadata": {},
   "source": [
    "# Optunaの結果を可視化する\n",
    "<hr>"
   ]
  },
  {
   "cell_type": "markdown",
   "metadata": {},
   "source": [
    "## 初期設定"
   ]
  },
  {
   "cell_type": "markdown",
   "metadata": {},
   "source": [
    "### matplotlibを使用する場合"
   ]
  },
  {
   "cell_type": "code",
   "execution_count": null,
   "metadata": {},
   "outputs": [],
   "source": [
    "import optuna\n",
    "import matplotlib.pyplot as plt\n",
    "\n",
    "# You can use Matplotlib instead of Plotly for visualization by simply replacing `optuna.visualization` with\n",
    "# `optuna.visualization.matplotlib` in the following examples.\n",
    "from optuna.visualization.matplotlib import plot_contour\n",
    "from optuna.visualization.matplotlib import plot_edf\n",
    "from optuna.visualization.matplotlib import plot_intermediate_values\n",
    "from optuna.visualization.matplotlib import plot_optimization_history\n",
    "from optuna.visualization.matplotlib import plot_parallel_coordinate\n",
    "from optuna.visualization.matplotlib import plot_param_importances\n",
    "from optuna.visualization.matplotlib import plot_rank\n",
    "from optuna.visualization.matplotlib import plot_slice\n",
    "from optuna.visualization.matplotlib import plot_timeline\n"
   ]
  },
  {
   "cell_type": "markdown",
   "metadata": {},
   "source": [
    "### plotlyを使用する場合"
   ]
  },
  {
   "cell_type": "code",
   "execution_count": null,
   "metadata": {},
   "outputs": [],
   "source": [
    "import optuna\n",
    "import plotly\n",
    "\n",
    "# You can use Matplotlib instead of Plotly for visualization by simply replacing `optuna.visualization` with\n",
    "# `optuna.visualization.matplotlib` in the following examples.\n",
    "from optuna.visualization import plot_contour\n",
    "from optuna.visualization import plot_edf\n",
    "from optuna.visualization import plot_intermediate_values\n",
    "from optuna.visualization import plot_optimization_history\n",
    "from optuna.visualization import plot_parallel_coordinate\n",
    "from optuna.visualization import plot_param_importances\n",
    "from optuna.visualization import plot_rank\n",
    "from optuna.visualization import plot_slice\n",
    "from optuna.visualization import plot_timeline"
   ]
  },
  {
   "cell_type": "markdown",
   "metadata": {},
   "source": [
    "### 結果のロード"
   ]
  },
  {
   "cell_type": "code",
   "execution_count": null,
   "metadata": {},
   "outputs": [],
   "source": [
    "# 結果のロード\n",
    "\n",
    "studyName = \"reproduct_sample08\"\n",
    "studyStorage = \"mysql://ishibashi@127.0.0.1/ishibashi_optuna_01\"\n",
    "\n",
    "study = optuna.load_study(\n",
    "    study_name=studyName, \n",
    "    storage=studyStorage,\n",
    ")"
   ]
  },
  {
   "cell_type": "markdown",
   "metadata": {},
   "source": [
    "<hr>\n",
    "\n",
    "## 可視化"
   ]
  },
  {
   "cell_type": "markdown",
   "metadata": {},
   "source": [
    "### plot_optimization_history\n",
    "- 学習履歴\n",
    "- 赤がそれまでに見つけている最適解の値\n",
    "- 学習回数の目安になるかも"
   ]
  },
  {
   "cell_type": "code",
   "execution_count": null,
   "metadata": {},
   "outputs": [],
   "source": [
    "fig = plot_optimization_history(study)\n",
    "\n",
    "# plt使うなら\n",
    "# plt.show()\n",
    "fig"
   ]
  },
  {
   "cell_type": "markdown",
   "metadata": {},
   "source": [
    "### plot_intermediate_values\n",
    "- 学習曲線を可視化するらしい\n",
    "- あんまり使わないかも\n"
   ]
  },
  {
   "cell_type": "code",
   "execution_count": null,
   "metadata": {},
   "outputs": [],
   "source": [
    "fig = plot_intermediate_values(study)\n",
    "\n",
    "# plt使うなら\n",
    "# plt.show()\n",
    "fig"
   ]
  },
  {
   "cell_type": "markdown",
   "metadata": {},
   "source": [
    "### plot_parallel_coordinate\n",
    " - 各パラメータと出力値との対応を見る\n",
    " - trialが多いとなんも見えん\n",
    " - 下みたいな感じでパラメータを絞れる\n",
    "\n",
    "    `plot_parallel_coordinate(study, params=[\"lr\", \"n_layers\"])`"
   ]
  },
  {
   "cell_type": "code",
   "execution_count": null,
   "metadata": {},
   "outputs": [],
   "source": [
    "fig = plot_parallel_coordinate(study)\n",
    "\n",
    "# plt使うなら\n",
    "# plt.show()\n",
    "fig"
   ]
  },
  {
   "cell_type": "markdown",
   "metadata": {},
   "source": [
    "### plot_contour\n",
    " - 各パラメータの等高線を見ることができる\n",
    " - 見た目は一番直感的かもしれない\n",
    " - # **バチクソに重いので注意**"
   ]
  },
  {
   "cell_type": "code",
   "execution_count": null,
   "metadata": {},
   "outputs": [],
   "source": [
    "# fig = plot_contour(study)\n",
    "fig = plot_contour(study, params=[\"leaking_rate\", \"tikhonov_beta\"])\n",
    "\n",
    "# plt使うなら\n",
    "# plt.show()\n",
    "fig"
   ]
  },
  {
   "cell_type": "markdown",
   "metadata": {},
   "source": [
    "### plot_slice\n",
    "- 各パラメータを独立して見ることができる\n",
    "- 曲線的な奴が出るのでわかりやすい"
   ]
  },
  {
   "cell_type": "code",
   "execution_count": null,
   "metadata": {},
   "outputs": [],
   "source": [
    "fig = plot_slice(study)\n",
    "\n",
    "# plt使うなら\n",
    "# plt.show()\n",
    "fig"
   ]
  },
  {
   "cell_type": "markdown",
   "metadata": {},
   "source": [
    "### plot_param_importances\n",
    "- 各パラメータの出力への貢献度を示す\n",
    "- どのパラメータが一番効いているのかを分析できる"
   ]
  },
  {
   "cell_type": "code",
   "execution_count": null,
   "metadata": {},
   "outputs": [],
   "source": [
    "fig = plot_param_importances(study)\n",
    "\n",
    "# 時間かかったパラメータも見ることができる\n",
    "# fig = plot_param_importances(study, target=lambda t: t.duration.total_seconds(), target_name=\"duration\")\n",
    "\n",
    "# plt使うなら\n",
    "# plt.show()\n",
    "fig"
   ]
  },
  {
   "cell_type": "markdown",
   "metadata": {},
   "source": [
    "### plot_edf\n",
    "- Empirical Sistribution Function\n",
    "    - 経験的累積貢献度？とかなんとか\n",
    "- これも最適化の進み具合を見る指標かな\n",
    "- 使い方も読み方もわからない"
   ]
  },
  {
   "cell_type": "code",
   "execution_count": null,
   "metadata": {},
   "outputs": [],
   "source": [
    "fig = plot_edf(study)\n",
    "\n",
    "# plt使うなら\n",
    "# plt.show()\n",
    "fig"
   ]
  },
  {
   "cell_type": "markdown",
   "metadata": {},
   "source": [
    "### plot_rank\n",
    "- `plot_contour`に似たやつ\n",
    "- こっちは等高線は出さずに，サンプルの色だけで表す"
   ]
  },
  {
   "cell_type": "code",
   "execution_count": null,
   "metadata": {},
   "outputs": [],
   "source": [
    "fig = plot_rank(study)\n",
    "# fig = plot_rank(study, params=[\"leaking_rate\", \"tikhonov_beta\"])\n",
    "\n",
    "# plt使うなら\n",
    "# plt.show()\n",
    "fig"
   ]
  },
  {
   "cell_type": "markdown",
   "metadata": {},
   "source": [
    "### plot_timeline\n",
    "- 経過時間を示す\n",
    "- 表示は開始時刻と終了時刻なので，実際にどのくらい時間かかったかは自分で計算しないといけない\n",
    "    - 多分表示オプションとかで制御できるが"
   ]
  },
  {
   "cell_type": "code",
   "execution_count": null,
   "metadata": {},
   "outputs": [],
   "source": [
    "fig = plot_timeline(study)\n",
    "\n",
    "# plt使うなら\n",
    "# plt.show()\n",
    "fig"
   ]
  },
  {
   "cell_type": "markdown",
   "metadata": {},
   "source": [
    "<hr>\n",
    "\n",
    "## 最適解出力"
   ]
  },
  {
   "cell_type": "markdown",
   "metadata": {},
   "source": [
    "### 関数の用意\n",
    "- 画像を出力するなら先にこれ実行"
   ]
  },
  {
   "cell_type": "code",
   "execution_count": null,
   "metadata": {},
   "outputs": [],
   "source": [
    "import cupy as cp\n",
    "import matplotlib.pyplot as plt\n",
    "\n",
    "# 出力画像生成\n",
    "def makeFig3(flag, title, output, GT, stde, model, rmse, nrmse):\n",
    "    '''\n",
    "    param flag: 画像を保存するかを管理するフラグ trueで保存\n",
    "    param title: 画像タイトル\n",
    "    param output: 出力データ\n",
    "    param GT: 目標データ\n",
    "    param stde: 目標データの標準誤差\n",
    "    param model: 作ったモデルのインスタンス\n",
    "    param rmse: RMSE\n",
    "    param nrmse: NRMSE\n",
    "    '''\n",
    "\n",
    "    # サイズ調整\n",
    "    fig = plt.figure(figsize=[5, 3])\n",
    "\n",
    "    ax1 = fig.add_subplot(1, 1, 1)\n",
    "    ax1.set_title(title, fontsize=12)\n",
    "    ax1.plot(cp.asnumpy(output), color=\"r\", linewidth=2.0, label=\"model output\")\n",
    "    ax1.grid(linestyle=\":\")\n",
    "    ax1.set_xlabel(\"frame\")\n",
    "\n",
    "    ax1.fill_between(cp.asnumpy(cp.linspace(0, len(output)-1, len(output))), \n",
    "        cp.asnumpy(GT) + stde, cp.asnumpy(GT) - stde, \n",
    "        alpha=0.15, color='k', label=\"data std error\")\n",
    "    ax1.plot(cp.asnumpy(GT), color=\"k\", label=\"data mean\", linewidth=0.5)\n",
    "\n",
    "    ax1.set_xlim(-10, 600)\n",
    "    ax1.set_ylim(0.5, 2.0)\n",
    "\n",
    "    ax1.legend()\n",
    "\n",
    "    plt.show()\n",
    "    plt.close()"
   ]
  },
  {
   "cell_type": "markdown",
   "metadata": {},
   "source": [
    "### 最適解出力\n",
    "- 値を出力\n",
    "- 画像も出力"
   ]
  },
  {
   "cell_type": "code",
   "execution_count": null,
   "metadata": {},
   "outputs": [],
   "source": [
    "best_params = study.best_params\n",
    "\n",
    "found_nodeNum_01 = best_params[\"nodeNum_01\"]\n",
    "found_nodeNum_02 = best_params[\"nodeNum_02\"]\n",
    "found_nodeNum_03 = best_params[\"nodeNum_03\"]\n",
    "found_nodeNum_04 = best_params[\"nodeNum_04\"]\n",
    "\n",
    "found_leaking_rate_01 = best_params[\"leaking_rate_01\"]\n",
    "found_leaking_rate_02 = best_params[\"leaking_rate_02\"]\n",
    "found_leaking_rate_03 = best_params[\"leaking_rate_03\"]\n",
    "found_leaking_rate_04 = best_params[\"leaking_rate_04\"]\n",
    "\n",
    "found_intensity = best_params[\"intensity\"]\n",
    "\n",
    "found_tikhonov_beta = best_params[\"tikhonov_beta\"]\n",
    "\n",
    "best_value = study.best_value\n",
    "# print(f\"Found nodeNum: {found_nodeNum}, Found leaking rate:{found_leaking_rate}, Found tikhonov beta : {found_tikhonov_beta}, value : {best_value}\")\n",
    "print(\"====Found Paramators====\")\n",
    "print(f\"nodeNum_01: {found_nodeNum_01}, leaking_rate_01: {found_leaking_rate_01}\")\n",
    "print(f\"nodeNum_02: {found_nodeNum_02}, leaking_rate_02: {found_leaking_rate_02}\")\n",
    "print(f\"nodeNum_03: {found_nodeNum_03}, leaking_rate_03: {found_leaking_rate_03}\")\n",
    "print(f\"nodeNum_04: {found_nodeNum_04}, leaking_rate_04: {found_leaking_rate_04}\")\n",
    "print(f\"intensity: {found_intensity}\")\n",
    "print(f\"tikhonov_beta: {found_tikhonov_beta}\")\n",
    "print(\"========\")\n",
    "print(f\"best value: {best_value}\")\n",
    "\n"
   ]
  }
 ],
 "metadata": {
  "kernelspec": {
   "display_name": "res",
   "language": "python",
   "name": "python3"
  },
  "language_info": {
   "codemirror_mode": {
    "name": "ipython",
    "version": 3
   },
   "file_extension": ".py",
   "mimetype": "text/x-python",
   "name": "python",
   "nbconvert_exporter": "python",
   "pygments_lexer": "ipython3",
   "version": "3.11.8"
  }
 },
 "nbformat": 4,
 "nbformat_minor": 2
}
